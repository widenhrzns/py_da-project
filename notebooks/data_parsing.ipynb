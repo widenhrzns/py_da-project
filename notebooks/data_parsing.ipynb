{
 "cells": [
  {
   "cell_type": "code",
   "execution_count": 2,
   "metadata": {},
   "outputs": [],
   "source": [
    "import requests\n",
    "from bs4 import BeautifulSoup\n",
    "import os"
   ]
  },
  {
   "cell_type": "markdown",
   "metadata": {},
   "source": [
    "Здесь представлен парсинг эксель таблиц с сайта ЦБ.РФ с раздела   \n",
    "`Показатели рынка жилищного (ипотечного жилищного) кредитования (региональный разрез)`"
   ]
  },
  {
   "cell_type": "code",
   "execution_count": 3,
   "metadata": {},
   "outputs": [],
   "source": [
    "# URL страницы\n",
    "url = \"https://cbr.ru/statistics/bank_sector/mortgage/?utm_source=w&utm_content=page\"\n",
    "\n",
    "headers = {\n",
    "    \"User-Agent\": \"Mozilla/5.0 (Windows NT 10.0; Win64; x64) AppleWebKit/537.36 (KHTML, like Gecko) Chrome/58.0.3029.110 Safari/537.3\"\n",
    "}\n",
    "\n",
    "response = requests.get(url, headers=headers)\n",
    "\n",
    "# парсим HTML-страницу\n",
    "soup = BeautifulSoup(response.text, 'html.parser')\n",
    "\n",
    "dropdown_content = soup.find('div', {'id': 'DropDown2_content'})\n",
    "    \n",
    "# все ссылки на XLSX файлы\n",
    "xlsx_links = []\n",
    "for link in dropdown_content.find_all('a', href=True):\n",
    "        if link['href'].endswith('.xlsx'):\n",
    "            xlsx_links.append(link['href'])\n",
    "        \n",
    "# папка для сохранения файлов\n",
    "os.makedirs(r'..\\data\\downloaded_xlsx', exist_ok=True)\n",
    "            \n",
    "# cкачиваем каждый XLSX файл\n",
    "for xlsx_link in xlsx_links:\n",
    "    full_url = f\"https://cbr.ru{xlsx_link}\"\n",
    "    file_name = os.path.join(r'..\\data\\downloaded_xlsx', os.path.basename(xlsx_link))\n",
    "    file_response = requests.get(full_url, headers=headers)\n",
    "    with open(file_name, 'wb') as file:\n",
    "        file.write(file_response.content)"
   ]
  }
 ],
 "metadata": {
  "kernelspec": {
   "display_name": "Python 3",
   "language": "python",
   "name": "python3"
  },
  "language_info": {
   "codemirror_mode": {
    "name": "ipython",
    "version": 3
   },
   "file_extension": ".py",
   "mimetype": "text/x-python",
   "name": "python",
   "nbconvert_exporter": "python",
   "pygments_lexer": "ipython3",
   "version": "3.13.1"
  }
 },
 "nbformat": 4,
 "nbformat_minor": 2
}
